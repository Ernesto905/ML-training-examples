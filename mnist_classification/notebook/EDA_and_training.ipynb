{
 "cells": [
  {
   "cell_type": "code",
   "execution_count": 23,
   "id": "9ccd1a1b-2ccf-4ff1-8501-8e28cc79d2f5",
   "metadata": {},
   "outputs": [],
   "source": [
    "import torchvision \n",
    "from torchvision.transforms import ToTensor\n",
    "\n",
    "from torch.utils.data import DataLoader"
   ]
  },
  {
   "cell_type": "code",
   "execution_count": 27,
   "id": "c091664d-c966-4f23-957a-a0956f4d7013",
   "metadata": {},
   "outputs": [],
   "source": [
    "training_data = torchvision.datasets.MNIST(root=\"data\", train=True, download=True)\n",
    "testing_data = torchvision.datasets.MNIST(root=\"data\", train=False, download=True)"
   ]
  },
  {
   "cell_type": "code",
   "execution_count": 28,
   "id": "b8804d5d-6f08-463e-959a-e0ab740ddd45",
   "metadata": {},
   "outputs": [
    {
     "data": {
      "text/plain": [
       "Dataset MNIST\n",
       "    Number of datapoints: 60000\n",
       "    Root location: data\n",
       "    Split: Train"
      ]
     },
     "execution_count": 28,
     "metadata": {},
     "output_type": "execute_result"
    }
   ],
   "source": [
    "training_set "
   ]
  },
  {
   "cell_type": "code",
   "execution_count": 29,
   "id": "ca9a76fc-2c6b-4ef9-a174-37b996e193ac",
   "metadata": {},
   "outputs": [
    {
     "data": {
      "text/plain": [
       "Dataset MNIST\n",
       "    Number of datapoints: 10000\n",
       "    Root location: data\n",
       "    Split: Test"
      ]
     },
     "execution_count": 29,
     "metadata": {},
     "output_type": "execute_result"
    }
   ],
   "source": [
    "testing_set"
   ]
  },
  {
   "cell_type": "code",
   "execution_count": 35,
   "id": "bd4f6ef1-2fd0-4ee2-9585-628708a74ac1",
   "metadata": {},
   "outputs": [
    {
     "data": {
      "text/plain": [
       "(torch.Size([60000, 28, 28]), '|', torch.Size([10000, 28, 28]))"
      ]
     },
     "execution_count": 35,
     "metadata": {},
     "output_type": "execute_result"
    }
   ],
   "source": [
    "training_set.data.shape, '|', testing_set.data.shape"
   ]
  },
  {
   "cell_type": "code",
   "execution_count": null,
   "id": "319c0460-1671-470c-b0ca-8be5afe61801",
   "metadata": {},
   "outputs": [],
   "source": [
    "train_dataloader = DataLoader("
   ]
  }
 ],
 "metadata": {
  "kernelspec": {
   "display_name": "Python 3 (ipykernel)",
   "language": "python",
   "name": "python3"
  },
  "language_info": {
   "codemirror_mode": {
    "name": "ipython",
    "version": 3
   },
   "file_extension": ".py",
   "mimetype": "text/x-python",
   "name": "python",
   "nbconvert_exporter": "python",
   "pygments_lexer": "ipython3",
   "version": "3.12.4"
  }
 },
 "nbformat": 4,
 "nbformat_minor": 5
}
